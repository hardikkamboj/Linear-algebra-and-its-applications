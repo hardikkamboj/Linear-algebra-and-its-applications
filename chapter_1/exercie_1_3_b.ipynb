{
 "cells": [
  {
   "cell_type": "code",
   "execution_count": 1,
   "id": "2fb799a0",
   "metadata": {},
   "outputs": [],
   "source": [
    "import numpy as np\n",
    "import matplotlib.pyplot as plt\n",
    "from tqdm import tqdm"
   ]
  },
  {
   "cell_type": "code",
   "execution_count": 17,
   "id": "79512380",
   "metadata": {},
   "outputs": [],
   "source": [
    "\n",
    "\n",
    "def simulate_binary_matrix_invertibility(min_size=2, max_size=15, trials=10000):\n",
    "    \"\"\"\n",
    "    Simulates the probability of a random binary matrix being invertible\n",
    "    for matrices of different sizes.\n",
    "    \n",
    "    Args:\n",
    "        min_size: The minimum matrix size to test\n",
    "        max_size: The maximum matrix size to test\n",
    "        trials: Number of random matrices to generate for each size\n",
    "        \n",
    "    Returns:\n",
    "        sizes: List of matrix sizes tested\n",
    "        probabilities: List of probabilities of being invertible\n",
    "    \"\"\"\n",
    "    sizes = range(min_size, max_size + 1)\n",
    "    probabilities = []\n",
    "    \n",
    "    # Overall progress bar for all matrix sizes\n",
    "    #with tqdm(total=len(sizes), desc=\"Overall progress\", position=0) as pbar1:\n",
    "    for size in sizes:\n",
    "        invertible_count = 0\n",
    "\n",
    "        # Nested progress bar for trials within each matrix size\n",
    "        #with tqdm(total=trials, desc=f\"{size}x{size} matrix\", position=1, leave=False) as pbar2:\n",
    "        for _ in range(trials):\n",
    "            # Generate a random binary matrix (0 or 1 entries)\n",
    "            matrix = np.random.randint(0, 2, size=(size, size))\n",
    "\n",
    "            # Check if matrix is invertible (determinant != 0)\n",
    "            try:\n",
    "                det = np.linalg.det(matrix)\n",
    "                if abs(det) > 1e-10:  # Using a small threshold to handle floating point errors\n",
    "                    invertible_count += 1\n",
    "            except:\n",
    "                # In case of numerical issues, we can also try to compute the rank\n",
    "                if np.linalg.matrix_rank(matrix) == size:\n",
    "                    invertible_count += 1\n",
    "\n",
    "            #pbar2.update(1)\n",
    "\n",
    "        probability = invertible_count / trials\n",
    "        probabilities.append(probability)\n",
    "        print(f\"{size}x{size} matrix: Probability of being invertible = {probability:.4f}\")\n",
    "        #pbar1.update(1)\n",
    "    \n",
    "    return list(sizes), probabilities"
   ]
  },
  {
   "cell_type": "code",
   "execution_count": 18,
   "id": "cd14e208",
   "metadata": {},
   "outputs": [],
   "source": [
    "def plot_results(sizes, probabilities):\n",
    "    \"\"\"\n",
    "    Plots the results of the simulation.\n",
    "    \"\"\"\n",
    "    plt.figure(figsize=(10, 6))\n",
    "    plt.plot(sizes, probabilities, 'o-', linewidth=2)\n",
    "    plt.axhline(y=0.5, color='r', linestyle='--', alpha=0.5)\n",
    "    plt.grid(True, alpha=0.3)\n",
    "    plt.xlabel('Matrix Size (n×n)')\n",
    "    plt.ylabel('Probability of being Invertible')\n",
    "    plt.title('Probability of a Random Binary Matrix being Invertible')\n",
    "    plt.xticks(sizes)\n",
    "    plt.ylim(0, 1.05)\n",
    "    \n",
    "    # Add theoretical limit for GF(2) if it exists in the literature\n",
    "    # plt.axhline(y=0.289, color='g', linestyle='--', alpha=0.5, label='Theoretical limit over GF(2)')\n",
    "    \n",
    "    plt.tight_layout()\n",
    "    # plt.savefig('binary_matrix_invertibility.png')\n",
    "    plt.show()"
   ]
  },
  {
   "cell_type": "code",
   "execution_count": 19,
   "id": "518e8e37",
   "metadata": {
    "scrolled": false
   },
   "outputs": [
    {
     "name": "stdout",
     "output_type": "stream",
     "text": [
      "2x2 matrix: Probability of being invertible = 0.3826\n",
      "3x3 matrix: Probability of being invertible = 0.3324\n",
      "4x4 matrix: Probability of being invertible = 0.3500\n",
      "5x5 matrix: Probability of being invertible = 0.3708\n",
      "6x6 matrix: Probability of being invertible = 0.4294\n",
      "7x7 matrix: Probability of being invertible = 0.4874\n",
      "8x8 matrix: Probability of being invertible = 0.5546\n",
      "9x9 matrix: Probability of being invertible = 0.6294\n",
      "10x10 matrix: Probability of being invertible = 0.7068\n",
      "11x11 matrix: Probability of being invertible = 0.7748\n",
      "12x12 matrix: Probability of being invertible = 0.8352\n",
      "13x13 matrix: Probability of being invertible = 0.8858\n",
      "14x14 matrix: Probability of being invertible = 0.9254\n",
      "15x15 matrix: Probability of being invertible = 0.9526\n"
     ]
    },
    {
     "data": {
      "image/png": "[encoded data removed]",
      "text/plain": [
       "<Figure size 720x432 with 1 Axes>"
      ]
     },
     "metadata": {
      "needs_background": "light"
     },
     "output_type": "display_data"
    },
    {
     "name": "stdout",
     "output_type": "stream",
     "text": [
      "\n",
      "Summary of results:\n",
      "2x2 matrix: 0.382600\n",
      "3x3 matrix: 0.332400\n",
      "4x4 matrix: 0.350000\n",
      "5x5 matrix: 0.370800\n",
      "6x6 matrix: 0.429400\n",
      "7x7 matrix: 0.487400\n",
      "8x8 matrix: 0.554600\n",
      "9x9 matrix: 0.629400\n",
      "10x10 matrix: 0.706800\n",
      "11x11 matrix: 0.774800\n",
      "12x12 matrix: 0.835200\n",
      "13x13 matrix: 0.885800\n",
      "14x14 matrix: 0.925400\n",
      "15x15 matrix: 0.952600\n"
     ]
    }
   ],
   "source": [
    "if __name__ == \"__main__\":\n",
    "    # Run the simulation\n",
    "    sizes, probabilities = simulate_binary_matrix_invertibility(min_size=2, max_size=15, trials=5000)\n",
    "    \n",
    "    # Plot the results\n",
    "    plot_results(sizes, probabilities)\n",
    "    \n",
    "    # Print summary\n",
    "    print(\"\\nSummary of results:\")\n",
    "    for size, prob in zip(sizes, probabilities):\n",
    "        print(f\"{size}x{size} matrix: {prob:.6f}\")"
   ]
  },
  {
   "cell_type": "code",
   "execution_count": null,
   "id": "6aa524ee",
   "metadata": {},
   "outputs": [],
   "source": []
  }
 ],
 "metadata": {
  "kernelspec": {
   "display_name": "Python 3 (ipykernel)",
   "language": "python",
   "name": "python3"
  },
  "language_info": {
   "codemirror_mode": {
    "name": "ipython",
    "version": 3
   },
   "file_extension": ".py",
   "mimetype": "text/x-python",
   "name": "python",
   "nbconvert_exporter": "python",
   "pygments_lexer": "ipython3",
   "version": "3.8.5"
  }
 },
 "nbformat": 4,
 "nbformat_minor": 5
}
