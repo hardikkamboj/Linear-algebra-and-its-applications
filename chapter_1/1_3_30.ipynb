{
 "cells": [
  {
   "cell_type": "code",
   "execution_count": 3,
   "id": "a2c3948a",
   "metadata": {},
   "outputs": [],
   "source": [
    "import numpy as np\n",
    "from scipy.linalg import lu\n"
   ]
  },
  {
   "cell_type": "code",
   "execution_count": 4,
   "id": "ec54a571",
   "metadata": {},
   "outputs": [],
   "source": [
    "A = np.random.rand(3, 3)\n",
    "\n",
    "# Perform LU decomposition\n",
    "P, L, U = lu(A)"
   ]
  },
  {
   "cell_type": "code",
   "execution_count": 13,
   "id": "bbbf6770",
   "metadata": {},
   "outputs": [],
   "source": [
    "first_pivot_values = []\n",
    "second_pivot_values = []\n",
    "third_pivot_values = []\n",
    "\n",
    "for _ in range(10000):\n",
    "    A = np.random.rand(3, 3)\n",
    "\n",
    "    # Perform LU decomposition\n",
    "    P, L, U = lu(A)\n",
    "    \n",
    "    first_pivot_values.append(np.abs(U[0][0]))\n",
    "    second_pivot_values.append(np.abs(U[1][1]))\n",
    "    third_pivot_values.append(np.abs(U[2][2]))"
   ]
  },
  {
   "cell_type": "code",
   "execution_count": 14,
   "id": "334ff949",
   "metadata": {},
   "outputs": [],
   "source": [
    "avg_first_pivot = sum(first_pivot_values) / len(first_pivot_values)\n",
    "avg_second_pivot = sum(second_pivot_values) / len(second_pivot_values)\n",
    "avg_third_pivot = sum(third_pivot_values) / len(third_pivot_values)"
   ]
  },
  {
   "cell_type": "code",
   "execution_count": 15,
   "id": "fce42a15",
   "metadata": {},
   "outputs": [
    {
     "name": "stdout",
     "output_type": "stream",
     "text": [
      "Average value of first pivot -  0.750154414138613\n",
      "Average value of second pivot -  0.5013429038269994\n",
      "Average value of third pivot -  0.3647943585809048\n"
     ]
    }
   ],
   "source": [
    "print(\"Average value of first pivot - \", avg_first_pivot)\n",
    "print(\"Average value of second pivot - \", avg_second_pivot)\n",
    "print(\"Average value of third pivot - \", avg_third_pivot)"
   ]
  },
  {
   "cell_type": "markdown",
   "id": "6580dce6",
   "metadata": {},
   "source": [
    "## the pivot with max magnitude appears in the first pivot. "
   ]
  }
 ],
 "metadata": {
  "kernelspec": {
   "display_name": "Python 3 (ipykernel)",
   "language": "python",
   "name": "python3"
  },
  "language_info": {
   "codemirror_mode": {
    "name": "ipython",
    "version": 3
   },
   "file_extension": ".py",
   "mimetype": "text/x-python",
   "name": "python",
   "nbconvert_exporter": "python",
   "pygments_lexer": "ipython3",
   "version": "3.8.5"
  }
 },
 "nbformat": 4,
 "nbformat_minor": 5
}
