{
 "cells": [
  {
   "cell_type": "code",
   "execution_count": 7,
   "id": "113e68d8",
   "metadata": {},
   "outputs": [],
   "source": [
    "from scipy.linalg import pascal, cholesky, lu"
   ]
  },
  {
   "cell_type": "code",
   "execution_count": 3,
   "id": "299f157e",
   "metadata": {},
   "outputs": [],
   "source": [
    "# Generate 5x5 symmetric Pascal matrix\n",
    "A = pascal(5, kind='symmetric')"
   ]
  },
  {
   "cell_type": "code",
   "execution_count": 4,
   "id": "5cc61f48",
   "metadata": {},
   "outputs": [
    {
     "data": {
      "text/plain": [
       "array([[ 1,  1,  1,  1,  1],\n",
       "       [ 1,  2,  3,  4,  5],\n",
       "       [ 1,  3,  6, 10, 15],\n",
       "       [ 1,  4, 10, 20, 35],\n",
       "       [ 1,  5, 15, 35, 70]], dtype=uint64)"
      ]
     },
     "execution_count": 4,
     "metadata": {},
     "output_type": "execute_result"
    }
   ],
   "source": [
    "A"
   ]
  },
  {
   "cell_type": "code",
   "execution_count": 5,
   "id": "f06684a9",
   "metadata": {},
   "outputs": [],
   "source": [
    "# Cholesky decomposition (returns upper triangular R such that A = R.T @ R)\n",
    "R = cholesky(A, lower=False)"
   ]
  },
  {
   "cell_type": "code",
   "execution_count": 6,
   "id": "8dad0db8",
   "metadata": {},
   "outputs": [
    {
     "data": {
      "text/plain": [
       "array([[1., 1., 1., 1., 1.],\n",
       "       [0., 1., 2., 3., 4.],\n",
       "       [0., 0., 1., 3., 6.],\n",
       "       [0., 0., 0., 1., 4.],\n",
       "       [0., 0., 0., 0., 1.]])"
      ]
     },
     "execution_count": 6,
     "metadata": {},
     "output_type": "execute_result"
    }
   ],
   "source": [
    "R"
   ]
  },
  {
   "cell_type": "code",
   "execution_count": 8,
   "id": "dcba0ea9",
   "metadata": {},
   "outputs": [],
   "source": [
    "P, L, U = lu(A)"
   ]
  },
  {
   "cell_type": "code",
   "execution_count": 9,
   "id": "0985f3ef",
   "metadata": {},
   "outputs": [
    {
     "data": {
      "text/plain": [
       "array([[ 1.  ,  0.  ,  0.  ,  0.  ,  0.  ],\n",
       "       [ 1.  ,  1.  ,  0.  ,  0.  ,  0.  ],\n",
       "       [ 1.  ,  0.5 ,  1.  ,  0.  ,  0.  ],\n",
       "       [ 1.  ,  0.75,  0.75,  1.  ,  0.  ],\n",
       "       [ 1.  ,  0.25,  0.75, -1.  ,  1.  ]])"
      ]
     },
     "execution_count": 9,
     "metadata": {},
     "output_type": "execute_result"
    }
   ],
   "source": [
    "L"
   ]
  },
  {
   "cell_type": "code",
   "execution_count": 10,
   "id": "2e0b11f1",
   "metadata": {},
   "outputs": [
    {
     "data": {
      "text/plain": [
       "array([[  1.   ,   1.   ,   1.   ,   1.   ,   1.   ],\n",
       "       [  0.   ,   4.   ,  14.   ,  34.   ,  69.   ],\n",
       "       [  0.   ,   0.   ,  -2.   ,  -8.   , -20.5  ],\n",
       "       [  0.   ,   0.   ,   0.   ,  -0.5  ,  -2.375],\n",
       "       [  0.   ,   0.   ,   0.   ,   0.   ,  -0.25 ]])"
      ]
     },
     "execution_count": 10,
     "metadata": {},
     "output_type": "execute_result"
    }
   ],
   "source": [
    "U"
   ]
  },
  {
   "cell_type": "markdown",
   "id": "172bf94e",
   "metadata": {},
   "source": [
    "It does spoil the pattern"
   ]
  }
 ],
 "metadata": {
  "kernelspec": {
   "display_name": "Python 3 (ipykernel)",
   "language": "python",
   "name": "python3"
  },
  "language_info": {
   "codemirror_mode": {
    "name": "ipython",
    "version": 3
   },
   "file_extension": ".py",
   "mimetype": "text/x-python",
   "name": "python",
   "nbconvert_exporter": "python",
   "pygments_lexer": "ipython3",
   "version": "3.8.5"
  }
 },
 "nbformat": 4,
 "nbformat_minor": 5
}
