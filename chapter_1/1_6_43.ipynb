{
 "cells": [
  {
   "cell_type": "code",
   "execution_count": null,
   "id": "4c6f45ba",
   "metadata": {},
   "outputs": [],
   "source": [
    "\n",
    "# 2. Create the lower triangular Pascal matrix A (4x4)\n",
    "A = np.abs(pascal(4, kind='lower'))\n",
    "\n",
    "# 3. Compute the inverse of S directly\n",
    "invS = inv(S)\n",
    "\n",
    "# 4. Compute invS using inv(A.T) * inv(A)\n",
    "invS_test = inv(A.T) @ inv(A)\n",
    "\n",
    "# 5. Display results\n",
    "print(\"inv(S):\\n\", invS)\n",
    "print(\"inv(A.T) @ inv(A):\\n\", invS_test)\n",
    "\n",
    "# 6. Compare using a numerical tolerance\n",
    "equal = np.allclose(invS, invS_test, atol=1e-10)\n",
    "print(\"Are the two inverses approximately equal?\", equal)\n",
    "\n",
    "# 7. Print the norm of the difference\n",
    "print(\"Norm of the difference:\", np.linalg.norm(invS - invS_test))"
   ]
  },
  {
   "cell_type": "code",
   "execution_count": 1,
   "id": "275fe531",
   "metadata": {},
   "outputs": [],
   "source": [
    "import numpy as np\n",
    "from scipy.linalg import pascal, inv\n"
   ]
  },
  {
   "cell_type": "code",
   "execution_count": 3,
   "id": "75677514",
   "metadata": {},
   "outputs": [
    {
     "data": {
      "text/plain": [
       "array([[ 1,  1,  1,  1],\n",
       "       [ 1,  2,  3,  4],\n",
       "       [ 1,  3,  6, 10],\n",
       "       [ 1,  4, 10, 20]], dtype=uint64)"
      ]
     },
     "execution_count": 3,
     "metadata": {},
     "output_type": "execute_result"
    }
   ],
   "source": [
    "S = pascal(4, kind='symmetric')\n",
    "\n",
    "S"
   ]
  },
  {
   "cell_type": "code",
   "execution_count": 4,
   "id": "ea2780cb",
   "metadata": {},
   "outputs": [
    {
     "data": {
      "text/plain": [
       "array([[1, 0, 0, 0],\n",
       "       [1, 1, 0, 0],\n",
       "       [1, 2, 1, 0],\n",
       "       [1, 3, 3, 1]], dtype=uint64)"
      ]
     },
     "execution_count": 4,
     "metadata": {},
     "output_type": "execute_result"
    }
   ],
   "source": [
    "A = np.abs(pascal(4, kind='lower'))\n",
    "\n",
    "A"
   ]
  },
  {
   "cell_type": "code",
   "execution_count": 6,
   "id": "27deee1e",
   "metadata": {},
   "outputs": [
    {
     "data": {
      "text/plain": [
       "array([[  4.,  -6.,   4.,  -1.],\n",
       "       [ -6.,  14., -11.,   3.],\n",
       "       [  4., -11.,  10.,  -3.],\n",
       "       [ -1.,   3.,  -3.,   1.]])"
      ]
     },
     "execution_count": 6,
     "metadata": {},
     "output_type": "execute_result"
    }
   ],
   "source": [
    "# inverse of S \n",
    "invS = inv(S)\n",
    "\n",
    "invS"
   ]
  },
  {
   "cell_type": "code",
   "execution_count": 8,
   "id": "7871cb1c",
   "metadata": {},
   "outputs": [
    {
     "data": {
      "text/plain": [
       "array([[  4.,  -6.,   4.,  -1.],\n",
       "       [ -6.,  14., -11.,   3.],\n",
       "       [  4., -11.,  10.,  -3.],\n",
       "       [ -1.,   3.,  -3.,   1.]])"
      ]
     },
     "execution_count": 8,
     "metadata": {},
     "output_type": "execute_result"
    }
   ],
   "source": [
    "# to check\n",
    "invS_test = inv(A.T) @ inv(A)\n",
    "\n",
    "invS_test"
   ]
  },
  {
   "cell_type": "code",
   "execution_count": null,
   "id": "2253c0f6",
   "metadata": {},
   "outputs": [],
   "source": []
  }
 ],
 "metadata": {
  "kernelspec": {
   "display_name": "Python 3 (ipykernel)",
   "language": "python",
   "name": "python3"
  },
  "language_info": {
   "codemirror_mode": {
    "name": "ipython",
    "version": 3
   },
   "file_extension": ".py",
   "mimetype": "text/x-python",
   "name": "python",
   "nbconvert_exporter": "python",
   "pygments_lexer": "ipython3",
   "version": "3.8.5"
  }
 },
 "nbformat": 4,
 "nbformat_minor": 5
}
