{
 "cells": [
  {
   "cell_type": "code",
   "execution_count": 1,
   "id": "00390846",
   "metadata": {},
   "outputs": [],
   "source": [
    "import numpy as np\n",
    "from numpy.linalg import lstsq, norm"
   ]
  },
  {
   "cell_type": "code",
   "execution_count": 3,
   "id": "2e5ad58c",
   "metadata": {},
   "outputs": [
    {
     "name": "stdout",
     "output_type": "stream",
     "text": [
      "[[1. 1. 1. 1.]\n",
      " [1. 1. 1. 1.]\n",
      " [1. 1. 1. 1.]\n",
      " [1. 1. 1. 1.]]\n"
     ]
    }
   ],
   "source": [
    "# 1. A is a rank-deficient matrix (all ones)\n",
    "A = np.ones((4, 4))\n",
    "print(A)\n",
    "\n"
   ]
  },
  {
   "cell_type": "code",
   "execution_count": 4,
   "id": "34a763c1",
   "metadata": {},
   "outputs": [
    {
     "name": "stdout",
     "output_type": "stream",
     "text": [
      "[[0.56277575]\n",
      " [0.35429844]\n",
      " [0.28505612]\n",
      " [0.37564934]]\n"
     ]
    }
   ],
   "source": [
    "# Case 1: b = random\n",
    "b_rand = np.random.rand(4, 1)\n",
    "print(b_rand)"
   ]
  },
  {
   "cell_type": "code",
   "execution_count": 5,
   "id": "570c4028",
   "metadata": {},
   "outputs": [
    {
     "name": "stdout",
     "output_type": "stream",
     "text": [
      "Case 1: b = rand(4,1)\n",
      "x (least squares solution):\n",
      " [[0.09861123]\n",
      " [0.09861123]\n",
      " [0.09861123]\n",
      " [0.09861123]]\n",
      "Residual ||Ax - b||: 0.2055874313757611\n",
      "Rank of A: 1\n",
      "\n"
     ]
    }
   ],
   "source": [
    "x_rand, residuals_rand, rank_rand, s_rand = lstsq(A, b_rand, rcond=None)\n",
    "print(\"Case 1: b = rand(4,1)\")\n",
    "print(\"x (least squares solution):\\n\", x_rand)\n",
    "print(\"Residual ||Ax - b||:\", norm(A @ x_rand - b_rand))\n",
    "print(\"Rank of A:\", rank_rand)\n",
    "print()"
   ]
  },
  {
   "cell_type": "code",
   "execution_count": 7,
   "id": "06694282",
   "metadata": {},
   "outputs": [
    {
     "name": "stdout",
     "output_type": "stream",
     "text": [
      "Case 2: b = ones(4,1)\n",
      "x (minimum-norm solution):\n",
      " [[0.25]\n",
      " [0.25]\n",
      " [0.25]\n",
      " [0.25]]\n",
      "Residual ||Ax - b||: 1.3322676295501878e-15\n"
     ]
    }
   ],
   "source": [
    "b_ones = np.ones((4, 1))\n",
    "\n",
    "# Solve Ax = b\n",
    "x_ones, residuals_ones, rank_ones, s_ones = lstsq(A, b_ones, rcond=None)\n",
    "print(\"Case 2: b = ones(4,1)\")\n",
    "print(\"x (minimum-norm solution):\\n\", x_ones)\n",
    "print(\"Residual ||Ax - b||:\", norm(A @ x_ones - b_ones)) # very close to 0"
   ]
  },
  {
   "cell_type": "code",
   "execution_count": null,
   "id": "30d07978",
   "metadata": {},
   "outputs": [],
   "source": []
  }
 ],
 "metadata": {
  "kernelspec": {
   "display_name": "Python 3 (ipykernel)",
   "language": "python",
   "name": "python3"
  },
  "language_info": {
   "codemirror_mode": {
    "name": "ipython",
    "version": 3
   },
   "file_extension": ".py",
   "mimetype": "text/x-python",
   "name": "python",
   "nbconvert_exporter": "python",
   "pygments_lexer": "ipython3",
   "version": "3.8.5"
  }
 },
 "nbformat": 4,
 "nbformat_minor": 5
}
